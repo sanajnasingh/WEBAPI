{
 "cells": [
  {
   "cell_type": "markdown",
   "id": "38e0b15f-d361-4510-92a1-963b3fffd7af",
   "metadata": {},
   "source": [
    "ANS 1"
   ]
  },
  {
   "cell_type": "code",
   "execution_count": null,
   "id": "3b7617e7-2153-4868-b934-beed4881af7e",
   "metadata": {},
   "outputs": [],
   "source": [
    "APIs are used in web applications to connect user-facing front ends with critical back-end functionality and data.\n",
    "APIs are used to deliver material by streaming services such as Spotifyand Netflix. APIs are used by automakers\n",
    "such as Tesla to provide software upgrades."
   ]
  },
  {
   "cell_type": "markdown",
   "id": "e7eb4d97-1cff-4fdd-8478-bf66a0a7f7b4",
   "metadata": {},
   "source": [
    "ANS 2"
   ]
  },
  {
   "cell_type": "code",
   "execution_count": null,
   "id": "0a531978-09c2-4939-a8b8-aa347a1f309e",
   "metadata": {},
   "outputs": [],
   "source": [
    "ADVANTAGES\n",
    "\n",
    "1) an integration. An example of an integration is to push notifications from your product (such as CRM, Helpdesk) to a \n",
    "messaging tool such as Slack\n",
    "2) new functionality. In the early days of Twitter, some of the most popular Twitter clients were produced by third\n",
    "parties using the Twitter API. \n",
    "\n",
    "DISADVANTAGES\n",
    "\n",
    "1) Cost. Providing an API is expensive in terms of development time, ongoing maintenance.\n",
    "2) Security exposure. Adding an API adds another attack surface to your website."
   ]
  },
  {
   "cell_type": "markdown",
   "id": "fb91797b-6a4d-4a1b-ab69-eb4b925b74bf",
   "metadata": {},
   "source": [
    "ANS 3"
   ]
  },
  {
   "cell_type": "code",
   "execution_count": null,
   "id": "d2da6a34-8d28-428b-9c13-461d9361e35c",
   "metadata": {},
   "outputs": [],
   "source": [
    "A Web API is an application programming interface for the Web. A Browser API can extend the functionality \n",
    "of a web browser. A Server API can extend the functionality of a web server.\n",
    "\n",
    "API is an interface that exposes an application's data to outside software, whereas web applications are one\n",
    "type of API with stricter requirements. \n",
    "These requirements include network communication, SOAP as the primary protocol, and less accessibility for the public."
   ]
  },
  {
   "cell_type": "markdown",
   "id": "f3332993-85cb-4fe0-9694-8c400f388432",
   "metadata": {},
   "source": [
    "ANS 4"
   ]
  },
  {
   "cell_type": "code",
   "execution_count": null,
   "id": "15fa7063-330c-472a-93aa-4ee4a403d32c",
   "metadata": {},
   "outputs": [],
   "source": [
    "REST is a software architectural style that defines the set of rules to be used for creating web services.\n",
    "SOAP is a protocol for the exchange of information in a distributed environment. SOAP messages are encoded \n",
    "as XML documents and can be exchanged using various underlying protocols.\n",
    "Limitations of Soaps• Soaps do not wash well in hard water and does not form much lather or foam. "
   ]
  },
  {
   "cell_type": "markdown",
   "id": "abe33804-f852-4c36-aa45-da82c1534cd1",
   "metadata": {},
   "source": [
    "ANS 5|"
   ]
  },
  {
   "cell_type": "code",
   "execution_count": null,
   "id": "17bf4a16-cefb-414d-a546-f6740462287c",
   "metadata": {},
   "outputs": [],
   "source": [
    "SOAP and REST are two different approaches to API design. \n",
    "1) The SOAP approach is highly structured and uses XML data format.\n",
    "   REST is more flexible and allows applicationsto exchange data in multiple formats.\n",
    "2) SOAP--Relies on SOAP (Simple Object Access Protocol)\t\n",
    "   REST--Relies on REST (Representational State Transfer) architecture using HTTP.\n",
    "3) SOAP--Highly structured/typed\n",
    " REST-- Less structured -> less bulky data"
   ]
  }
 ],
 "metadata": {
  "kernelspec": {
   "display_name": "Python 3 (ipykernel)",
   "language": "python",
   "name": "python3"
  },
  "language_info": {
   "codemirror_mode": {
    "name": "ipython",
    "version": 3
   },
   "file_extension": ".py",
   "mimetype": "text/x-python",
   "name": "python",
   "nbconvert_exporter": "python",
   "pygments_lexer": "ipython3",
   "version": "3.10.8"
  }
 },
 "nbformat": 4,
 "nbformat_minor": 5
}
